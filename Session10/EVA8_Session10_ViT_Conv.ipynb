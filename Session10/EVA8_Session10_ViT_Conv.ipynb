{
  "cells": [
    {
      "cell_type": "markdown",
      "metadata": {
        "id": "view-in-github",
        "colab_type": "text"
      },
      "source": [
        "<a href=\"https://colab.research.google.com/github/sujitojha1/EVA8/blob/main/Session10/EVA8_Session10_ViT_Conv.ipynb\" target=\"_parent\"><img src=\"https://colab.research.google.com/assets/colab-badge.svg\" alt=\"Open In Colab\"/></a>"
      ]
    },
    {
      "cell_type": "markdown",
      "metadata": {
        "id": "9YGRKJrxJRI2"
      },
      "source": [
        "## Problem Statement : EVA 8, Session 10, CIFAR 10"
      ]
    },
    {
      "cell_type": "markdown",
      "metadata": {
        "id": "PNz8Mten-e9k"
      },
      "source": [
        "## Loading modules and libraries"
      ]
    },
    {
      "cell_type": "code",
      "execution_count": 7,
      "metadata": {
        "id": "w1YYR8-LKgHU",
        "colab": {
          "base_uri": "https://localhost:8080/"
        },
        "outputId": "d0ad16c2-54c2-450c-bd9c-d96ca1bbed85"
      },
      "outputs": [
        {
          "output_type": "stream",
          "name": "stdout",
          "text": [
            "The autoreload extension is already loaded. To reload it, use:\n",
            "  %reload_ext autoreload\n"
          ]
        }
      ],
      "source": [
        "%load_ext autoreload\n",
        "%autoreload 2"
      ]
    },
    {
      "cell_type": "code",
      "execution_count": 8,
      "metadata": {
        "colab": {
          "base_uri": "https://localhost:8080/"
        },
        "id": "jOYySBHpScnS",
        "outputId": "a0752b8d-3b2b-4be7-a756-a07c837a092b"
      },
      "outputs": [
        {
          "output_type": "stream",
          "name": "stdout",
          "text": [
            "Loaded EVA8 Modules and Models\n",
            "Looking in indexes: https://pypi.org/simple, https://us-python.pkg.dev/colab-wheels/public/simple/\n",
            "Requirement already satisfied: einops in /usr/local/lib/python3.9/dist-packages (0.6.0)\n"
          ]
        }
      ],
      "source": [
        "# Future print function\n",
        "from __future__ import print_function\n",
        "\n",
        "# Load modules/models from EVA course\n",
        "!rm -rf models\n",
        "!git clone https://github.com/sujitojha1/pytorch-eva8 -q --quiet\n",
        "!mv pytorch-eva8/* .\n",
        "print(\"Loaded EVA8 Modules and Models\")\n",
        "\n",
        "!rm -rf pytorch-eva8\n",
        "\n",
        "# Installing torch lr finder\n",
        "!pip install torch_lr_finder -q --quiet\n",
        "!pip install einops\n",
        "\n",
        "# For inline matplotlib plotting\n",
        "%matplotlib inline"
      ]
    },
    {
      "cell_type": "markdown",
      "metadata": {
        "id": "5yz4SEEX_wZy"
      },
      "source": [
        "## Load dataset and loader - CIFAR10"
      ]
    },
    {
      "cell_type": "code",
      "execution_count": 9,
      "metadata": {
        "colab": {
          "base_uri": "https://localhost:8080/"
        },
        "id": "SCJd4FLG_zOf",
        "outputId": "da36191d-77d1-426e-a06b-bc9d304a1c9e"
      },
      "outputs": [
        {
          "output_type": "stream",
          "name": "stdout",
          "text": [
            "Files already downloaded and verified\n",
            "Files already downloaded and verified\n"
          ]
        }
      ],
      "source": [
        "from utils import *\n",
        "\n",
        "# Define the dataset class with batch size\n",
        "cifar10 = CIFAR10DataLoader(train_batch_size = 128)\n",
        "\n",
        "# Get the train and test data loader\n",
        "trainloader, testloader = cifar10.get_data_loaders()\n",
        "\n",
        "classes = cifar10.classes\n"
      ]
    },
    {
      "cell_type": "markdown",
      "metadata": {
        "id": "o3pKhpyKBbzo"
      },
      "source": [
        "## Plotting some sample training images"
      ]
    },
    {
      "cell_type": "code",
      "execution_count": 10,
      "metadata": {
        "colab": {
          "base_uri": "https://localhost:8080/",
          "height": 282
        },
        "id": "hXOJd9CwAzQG",
        "outputId": "98afafe6-26af-4be9-a87f-0467059c7790"
      },
      "outputs": [
        {
          "output_type": "stream",
          "name": "stderr",
          "text": [
            "WARNING:matplotlib.image:Clipping input data to the valid range for imshow with RGB data ([0..1] for floats or [0..255] for integers).\n",
            "WARNING:matplotlib.image:Clipping input data to the valid range for imshow with RGB data ([0..1] for floats or [0..255] for integers).\n",
            "WARNING:matplotlib.image:Clipping input data to the valid range for imshow with RGB data ([0..1] for floats or [0..255] for integers).\n",
            "WARNING:matplotlib.image:Clipping input data to the valid range for imshow with RGB data ([0..1] for floats or [0..255] for integers).\n",
            "WARNING:matplotlib.image:Clipping input data to the valid range for imshow with RGB data ([0..1] for floats or [0..255] for integers).\n"
          ]
        },
        {
          "output_type": "display_data",
          "data": {
            "text/plain": [
              "<Figure size 1200x1200 with 5 Axes>"
            ],
            "image/png": "[encoded data removed]"
          },
          "metadata": {}
        }
      ],
      "source": [
        "cifar10.show_sample_images()"
      ]
    },
    {
      "cell_type": "markdown",
      "metadata": {
        "id": "nCMDmjJNbgQw"
      },
      "source": [
        "## The Model"
      ]
    },
    {
      "cell_type": "code",
      "execution_count": 11,
      "metadata": {
        "colab": {
          "base_uri": "https://localhost:8080/"
        },
        "id": "YDwaSsx8Bi0v",
        "outputId": "e9cf0137-c9d3-4df8-e1d8-a937c3647cde"
      },
      "outputs": [
        {
          "output_type": "stream",
          "name": "stdout",
          "text": [
            "cuda\n"
          ]
        }
      ],
      "source": [
        "from models.ViT_Conv import ViT\n",
        "\n",
        "#load VIT model\n",
        "# net = ViT(image_size=32, patch_size=2, num_classes=10, dim=128, depth=4, heads=8, mlp_dim=128, pool = 'cls', channels = 3, dim_head = 64, dropout = 0., emb_dropout = 0)\n",
        "net = ViT()\n",
        "\n",
        "\n",
        "# Using cuda if available\n",
        "use_cuda = torch.cuda.is_available()\n",
        "device = torch.device(\"cuda\" if use_cuda else \"cpu\")\n",
        "print(device)\n",
        "\n",
        "# Sending network to device\n",
        "net = net.to(device)"
      ]
    },
    {
      "cell_type": "markdown",
      "metadata": {
        "id": "e1Kq_enQgOcn"
      },
      "source": [
        "## Model Summary"
      ]
    },
    {
      "cell_type": "code",
      "execution_count": 12,
      "metadata": {
        "colab": {
          "base_uri": "https://localhost:8080/"
        },
        "id": "C_gVcbVseyVf",
        "outputId": "7240eac8-5cb1-4105-f749-86453ad95012"
      },
      "outputs": [
        {
          "output_type": "stream",
          "name": "stdout",
          "text": [
            "Looking in indexes: https://pypi.org/simple, https://us-python.pkg.dev/colab-wheels/public/simple/\n",
            "Requirement already satisfied: torchsummary in /usr/local/lib/python3.9/dist-packages (1.5.1)\n",
            "----------------------------------------------------------------\n",
            "        Layer (type)               Output Shape         Param #\n",
            "================================================================\n",
            "            Conv2d-1           [-1, 32, 32, 32]             896\n",
            "              GELU-2           [-1, 32, 32, 32]               0\n",
            "            Conv2d-3          [-1, 256, 16, 16]          33,024\n",
            "AddPositionEmbedding-4          [-1, 256, 16, 16]               0\n",
            "           Dropout-5          [-1, 256, 16, 16]               0\n",
            "           Flatten-6             [-1, 256, 256]               0\n",
            "           Dropout-7             [-1, 257, 256]               0\n",
            "         LayerNorm-8             [-1, 257, 256]             512\n",
            "            Linear-9             [-1, 257, 192]          49,152\n",
            "          Softmax-10          [-1, 8, 257, 257]               0\n",
            "           Linear-11             [-1, 257, 256]          16,640\n",
            "          Dropout-12             [-1, 257, 256]               0\n",
            "        Attention-13             [-1, 257, 256]               0\n",
            "          PreNorm-14             [-1, 257, 256]               0\n",
            "        LayerNorm-15             [-1, 257, 256]             512\n",
            "           Linear-16             [-1, 257, 256]          65,792\n",
            "             GELU-17             [-1, 257, 256]               0\n",
            "          Dropout-18             [-1, 257, 256]               0\n",
            "           Linear-19             [-1, 257, 256]          65,792\n",
            "          Dropout-20             [-1, 257, 256]               0\n",
            "      FeedForward-21             [-1, 257, 256]               0\n",
            "          PreNorm-22             [-1, 257, 256]               0\n",
            "        LayerNorm-23             [-1, 257, 256]             512\n",
            "           Linear-24             [-1, 257, 192]          49,152\n",
            "          Softmax-25          [-1, 8, 257, 257]               0\n",
            "           Linear-26             [-1, 257, 256]          16,640\n",
            "          Dropout-27             [-1, 257, 256]               0\n",
            "        Attention-28             [-1, 257, 256]               0\n",
            "          PreNorm-29             [-1, 257, 256]               0\n",
            "        LayerNorm-30             [-1, 257, 256]             512\n",
            "           Linear-31             [-1, 257, 256]          65,792\n",
            "             GELU-32             [-1, 257, 256]               0\n",
            "          Dropout-33             [-1, 257, 256]               0\n",
            "           Linear-34             [-1, 257, 256]          65,792\n",
            "          Dropout-35             [-1, 257, 256]               0\n",
            "      FeedForward-36             [-1, 257, 256]               0\n",
            "          PreNorm-37             [-1, 257, 256]               0\n",
            "        LayerNorm-38             [-1, 257, 256]             512\n",
            "           Linear-39             [-1, 257, 192]          49,152\n",
            "          Softmax-40          [-1, 8, 257, 257]               0\n",
            "           Linear-41             [-1, 257, 256]          16,640\n",
            "          Dropout-42             [-1, 257, 256]               0\n",
            "        Attention-43             [-1, 257, 256]               0\n",
            "          PreNorm-44             [-1, 257, 256]               0\n",
            "        LayerNorm-45             [-1, 257, 256]             512\n",
            "           Linear-46             [-1, 257, 256]          65,792\n",
            "             GELU-47             [-1, 257, 256]               0\n",
            "          Dropout-48             [-1, 257, 256]               0\n",
            "           Linear-49             [-1, 257, 256]          65,792\n",
            "          Dropout-50             [-1, 257, 256]               0\n",
            "      FeedForward-51             [-1, 257, 256]               0\n",
            "          PreNorm-52             [-1, 257, 256]               0\n",
            "        LayerNorm-53             [-1, 257, 256]             512\n",
            "           Linear-54             [-1, 257, 192]          49,152\n",
            "          Softmax-55          [-1, 8, 257, 257]               0\n",
            "           Linear-56             [-1, 257, 256]          16,640\n",
            "          Dropout-57             [-1, 257, 256]               0\n",
            "        Attention-58             [-1, 257, 256]               0\n",
            "          PreNorm-59             [-1, 257, 256]               0\n",
            "        LayerNorm-60             [-1, 257, 256]             512\n",
            "           Linear-61             [-1, 257, 256]          65,792\n",
            "             GELU-62             [-1, 257, 256]               0\n",
            "          Dropout-63             [-1, 257, 256]               0\n",
            "           Linear-64             [-1, 257, 256]          65,792\n",
            "          Dropout-65             [-1, 257, 256]               0\n",
            "      FeedForward-66             [-1, 257, 256]               0\n",
            "          PreNorm-67             [-1, 257, 256]               0\n",
            "      Transformer-68             [-1, 257, 256]               0\n",
            "        LayerNorm-69                  [-1, 256]             512\n",
            "           Linear-70                   [-1, 10]           2,570\n",
            "================================================================\n",
            "Total params: 830,602\n",
            "Trainable params: 830,602\n",
            "Non-trainable params: 0\n",
            "----------------------------------------------------------------\n",
            "Input size (MB): 0.01\n",
            "Forward/backward pass size (MB): 47.24\n",
            "Params size (MB): 3.17\n",
            "Estimated Total Size (MB): 50.42\n",
            "----------------------------------------------------------------\n"
          ]
        }
      ],
      "source": [
        "!pip install torchsummary\n",
        "from torchsummary import summary\n",
        "\n",
        "# Model Summary\n",
        "summary(net, input_size=(3, 32, 32))"
      ]
    },
    {
      "cell_type": "code",
      "execution_count": 13,
      "metadata": {
        "colab": {
          "base_uri": "https://localhost:8080/"
        },
        "id": "U8NsmlF8gmQ8",
        "outputId": "ca30a919-4fa1-436b-9a05-fd9fb0085f82"
      },
      "outputs": [
        {
          "output_type": "stream",
          "name": "stdout",
          "text": [
            "VIT: Epoch: 0 |  Train Acc: 0.2451,  Test Acc: 0.4216,  Time: 75.1,  lr: 0.000500\n",
            "VIT: Epoch: 1 |  Train Acc: 0.3979,  Test Acc: 0.4771,  Time: 72.7,  lr: 0.001000\n",
            "VIT: Epoch: 2 |  Train Acc: 0.4450,  Test Acc: 0.5085,  Time: 73.1,  lr: 0.001500\n",
            "VIT: Epoch: 3 |  Train Acc: 0.4687,  Test Acc: 0.5239,  Time: 73.7,  lr: 0.002000\n",
            "VIT: Epoch: 4 |  Train Acc: 0.4765,  Test Acc: 0.5043,  Time: 73.1,  lr: 0.002500\n",
            "VIT: Epoch: 5 |  Train Acc: 0.4744,  Test Acc: 0.5383,  Time: 73.0,  lr: 0.003000\n",
            "VIT: Epoch: 6 |  Train Acc: 0.4814,  Test Acc: 0.5297,  Time: 72.7,  lr: 0.003500\n",
            "VIT: Epoch: 7 |  Train Acc: 0.4967,  Test Acc: 0.5713,  Time: 72.8,  lr: 0.004000\n",
            "VIT: Epoch: 8 |  Train Acc: 0.5296,  Test Acc: 0.5893,  Time: 73.2,  lr: 0.004500\n",
            "VIT: Epoch: 9 |  Train Acc: 0.5563,  Test Acc: 0.6319,  Time: 72.7,  lr: 0.005000\n",
            "VIT: Epoch: 10 |  Train Acc: 0.5863,  Test Acc: 0.6229,  Time: 73.1,  lr: 0.004525\n",
            "VIT: Epoch: 11 |  Train Acc: 0.6168,  Test Acc: 0.6503,  Time: 72.9,  lr: 0.004050\n",
            "VIT: Epoch: 12 |  Train Acc: 0.6393,  Test Acc: 0.6971,  Time: 72.9,  lr: 0.003575\n",
            "VIT: Epoch: 13 |  Train Acc: 0.6602,  Test Acc: 0.6978,  Time: 72.2,  lr: 0.003100\n",
            "VIT: Epoch: 14 |  Train Acc: 0.6777,  Test Acc: 0.7259,  Time: 73.5,  lr: 0.002625\n",
            "VIT: Epoch: 15 |  Train Acc: 0.6958,  Test Acc: 0.7323,  Time: 73.1,  lr: 0.002150\n",
            "VIT: Epoch: 16 |  Train Acc: 0.7135,  Test Acc: 0.7409,  Time: 73.5,  lr: 0.001675\n",
            "VIT: Epoch: 17 |  Train Acc: 0.7285,  Test Acc: 0.7576,  Time: 72.8,  lr: 0.001200\n",
            "VIT: Epoch: 18 |  Train Acc: 0.7444,  Test Acc: 0.7694,  Time: 73.2,  lr: 0.000725\n",
            "VIT: Epoch: 19 |  Train Acc: 0.7604,  Test Acc: 0.7799,  Time: 73.6,  lr: 0.000250\n",
            "VIT: Epoch: 20 |  Train Acc: 0.7715,  Test Acc: 0.7817,  Time: 73.2,  lr: 0.000200\n",
            "VIT: Epoch: 21 |  Train Acc: 0.7730,  Test Acc: 0.7804,  Time: 72.9,  lr: 0.000150\n",
            "VIT: Epoch: 22 |  Train Acc: 0.7761,  Test Acc: 0.7868,  Time: 74.8,  lr: 0.000100\n",
            "VIT: Epoch: 23 |  Train Acc: 0.7812,  Test Acc: 0.7892,  Time: 73.1,  lr: 0.000050\n",
            "VIT: Epoch: 24 |  Train Acc: 0.7800,  Test Acc: 0.7893,  Time: 73.3,  lr: 0.000000\n"
          ]
        }
      ],
      "source": [
        "from main import trainTransformer\n",
        "\n",
        "model, training_acc, training_loss, testing_acc, testing_loss = trainTransformer(net, trainloader,\n",
        "                    testloader, epochs = 25, lr_max = 0.005,\n",
        "                    clip_norm = True, scheduler_flag = True)"
      ]
    },
    {
      "cell_type": "code",
      "execution_count": 13,
      "metadata": {
        "id": "4T7LbvYLgMq6"
      },
      "outputs": [],
      "source": []
    }
  ],
  "metadata": {
    "accelerator": "GPU",
    "colab": {
      "provenance": [],
      "authorship_tag": "ABX9TyMIkd1gqC1C2T1OLERRIXU7",
      "include_colab_link": true
    },
    "gpuClass": "standard",
    "kernelspec": {
      "display_name": "Python 3",
      "name": "python3"
    },
    "language_info": {
      "name": "python"
    }
  },
  "nbformat": 4,
  "nbformat_minor": 0
}