{
  "nbformat": 4,
  "nbformat_minor": 0,
  "metadata": {
    "kernelspec": {
      "name": "python3",
      "display_name": "Python 3"
    },
    "language_info": {
      "codemirror_mode": {
        "name": "ipython",
        "version": 3
      },
      "file_extension": ".py",
      "mimetype": "text/x-python",
      "name": "python",
      "nbconvert_exporter": "python",
      "pygments_lexer": "ipython3",
      "version": "3.6.6"
    },
    "colab": {
      "provenance": [],
      "include_colab_link": true
    },
    "accelerator": "GPU",
    "gpuClass": "standard",
    "widgets": {
      "application/vnd.jupyter.widget-state+json": {
        "8ba4f180aa384cdc90c3752a78850e35": {
          "model_module": "@jupyter-widgets/controls",
          "model_name": "HBoxModel",
          "model_module_version": "1.5.0",
          "state": {
            "_dom_classes": [],
            "_model_module": "@jupyter-widgets/controls",
            "_model_module_version": "1.5.0",
            "_model_name": "HBoxModel",
            "_view_count": null,
            "_view_module": "@jupyter-widgets/controls",
            "_view_module_version": "1.5.0",
            "_view_name": "HBoxView",
            "box_style": "",
            "children": [
              "IPY_MODEL_4d58ce2feede482088b005eb757484e2",
              "IPY_MODEL_cf755f674162460685d5d8d76fa898c2",
              "IPY_MODEL_32c7f91a6bd74c968832ddff7c734504"
            ],
            "layout": "IPY_MODEL_97f9f14eaf5b4b4ab46beb52686ba469"
          }
        },
        "4d58ce2feede482088b005eb757484e2": {
          "model_module": "@jupyter-widgets/controls",
          "model_name": "HTMLModel",
          "model_module_version": "1.5.0",
          "state": {
            "_dom_classes": [],
            "_model_module": "@jupyter-widgets/controls",
            "_model_module_version": "1.5.0",
            "_model_name": "HTMLModel",
            "_view_count": null,
            "_view_module": "@jupyter-widgets/controls",
            "_view_module_version": "1.5.0",
            "_view_name": "HTMLView",
            "description": "",
            "description_tooltip": null,
            "layout": "IPY_MODEL_5f8af00dbcc6455b8e9f108322490ad3",
            "placeholder": "​",
            "style": "IPY_MODEL_8f32831accb84950a0761ea39363dec0",
            "value": "100%"
          }
        },
        "cf755f674162460685d5d8d76fa898c2": {
          "model_module": "@jupyter-widgets/controls",
          "model_name": "FloatProgressModel",
          "model_module_version": "1.5.0",
          "state": {
            "_dom_classes": [],
            "_model_module": "@jupyter-widgets/controls",
            "_model_module_version": "1.5.0",
            "_model_name": "FloatProgressModel",
            "_view_count": null,
            "_view_module": "@jupyter-widgets/controls",
            "_view_module_version": "1.5.0",
            "_view_name": "ProgressView",
            "bar_style": "success",
            "description": "",
            "description_tooltip": null,
            "layout": "IPY_MODEL_65c667ab46914f958532647424250017",
            "max": 170498071,
            "min": 0,
            "orientation": "horizontal",
            "style": "IPY_MODEL_199c6c2523134a1f94af7dbb156a126a",
            "value": 170498071
          }
        },
        "32c7f91a6bd74c968832ddff7c734504": {
          "model_module": "@jupyter-widgets/controls",
          "model_name": "HTMLModel",
          "model_module_version": "1.5.0",
          "state": {
            "_dom_classes": [],
            "_model_module": "@jupyter-widgets/controls",
            "_model_module_version": "1.5.0",
            "_model_name": "HTMLModel",
            "_view_count": null,
            "_view_module": "@jupyter-widgets/controls",
            "_view_module_version": "1.5.0",
            "_view_name": "HTMLView",
            "description": "",
            "description_tooltip": null,
            "layout": "IPY_MODEL_7f6cdab3ca674a098f127419edfe7af9",
            "placeholder": "​",
            "style": "IPY_MODEL_7601eac78f8a45b480dcaa4f65b56420",
            "value": " 170498071/170498071 [00:13&lt;00:00, 13530569.54it/s]"
          }
        },
        "97f9f14eaf5b4b4ab46beb52686ba469": {
          "model_module": "@jupyter-widgets/base",
          "model_name": "LayoutModel",
          "model_module_version": "1.2.0",
          "state": {
            "_model_module": "@jupyter-widgets/base",
            "_model_module_version": "1.2.0",
            "_model_name": "LayoutModel",
            "_view_count": null,
            "_view_module": "@jupyter-widgets/base",
            "_view_module_version": "1.2.0",
            "_view_name": "LayoutView",
            "align_content": null,
            "align_items": null,
            "align_self": null,
            "border": null,
            "bottom": null,
            "display": null,
            "flex": null,
            "flex_flow": null,
            "grid_area": null,
            "grid_auto_columns": null,
            "grid_auto_flow": null,
            "grid_auto_rows": null,
            "grid_column": null,
            "grid_gap": null,
            "grid_row": null,
            "grid_template_areas": null,
            "grid_template_columns": null,
            "grid_template_rows": null,
            "height": null,
            "justify_content": null,
            "justify_items": null,
            "left": null,
            "margin": null,
            "max_height": null,
            "max_width": null,
            "min_height": null,
            "min_width": null,
            "object_fit": null,
            "object_position": null,
            "order": null,
            "overflow": null,
            "overflow_x": null,
            "overflow_y": null,
            "padding": null,
            "right": null,
            "top": null,
            "visibility": null,
            "width": null
          }
        },
        "5f8af00dbcc6455b8e9f108322490ad3": {
          "model_module": "@jupyter-widgets/base",
          "model_name": "LayoutModel",
          "model_module_version": "1.2.0",
          "state": {
            "_model_module": "@jupyter-widgets/base",
            "_model_module_version": "1.2.0",
            "_model_name": "LayoutModel",
            "_view_count": null,
            "_view_module": "@jupyter-widgets/base",
            "_view_module_version": "1.2.0",
            "_view_name": "LayoutView",
            "align_content": null,
            "align_items": null,
            "align_self": null,
            "border": null,
            "bottom": null,
            "display": null,
            "flex": null,
            "flex_flow": null,
            "grid_area": null,
            "grid_auto_columns": null,
            "grid_auto_flow": null,
            "grid_auto_rows": null,
            "grid_column": null,
            "grid_gap": null,
            "grid_row": null,
            "grid_template_areas": null,
            "grid_template_columns": null,
            "grid_template_rows": null,
            "height": null,
            "justify_content": null,
            "justify_items": null,
            "left": null,
            "margin": null,
            "max_height": null,
            "max_width": null,
            "min_height": null,
            "min_width": null,
            "object_fit": null,
            "object_position": null,
            "order": null,
            "overflow": null,
            "overflow_x": null,
            "overflow_y": null,
            "padding": null,
            "right": null,
            "top": null,
            "visibility": null,
            "width": null
          }
        },
        "8f32831accb84950a0761ea39363dec0": {
          "model_module": "@jupyter-widgets/controls",
          "model_name": "DescriptionStyleModel",
          "model_module_version": "1.5.0",
          "state": {
            "_model_module": "@jupyter-widgets/controls",
            "_model_module_version": "1.5.0",
            "_model_name": "DescriptionStyleModel",
            "_view_count": null,
            "_view_module": "@jupyter-widgets/base",
            "_view_module_version": "1.2.0",
            "_view_name": "StyleView",
            "description_width": ""
          }
        },
        "65c667ab46914f958532647424250017": {
          "model_module": "@jupyter-widgets/base",
          "model_name": "LayoutModel",
          "model_module_version": "1.2.0",
          "state": {
            "_model_module": "@jupyter-widgets/base",
            "_model_module_version": "1.2.0",
            "_model_name": "LayoutModel",
            "_view_count": null,
            "_view_module": "@jupyter-widgets/base",
            "_view_module_version": "1.2.0",
            "_view_name": "LayoutView",
            "align_content": null,
            "align_items": null,
            "align_self": null,
            "border": null,
            "bottom": null,
            "display": null,
            "flex": null,
            "flex_flow": null,
            "grid_area": null,
            "grid_auto_columns": null,
            "grid_auto_flow": null,
            "grid_auto_rows": null,
            "grid_column": null,
            "grid_gap": null,
            "grid_row": null,
            "grid_template_areas": null,
            "grid_template_columns": null,
            "grid_template_rows": null,
            "height": null,
            "justify_content": null,
            "justify_items": null,
            "left": null,
            "margin": null,
            "max_height": null,
            "max_width": null,
            "min_height": null,
            "min_width": null,
            "object_fit": null,
            "object_position": null,
            "order": null,
            "overflow": null,
            "overflow_x": null,
            "overflow_y": null,
            "padding": null,
            "right": null,
            "top": null,
            "visibility": null,
            "width": null
          }
        },
        "199c6c2523134a1f94af7dbb156a126a": {
          "model_module": "@jupyter-widgets/controls",
          "model_name": "ProgressStyleModel",
          "model_module_version": "1.5.0",
          "state": {
            "_model_module": "@jupyter-widgets/controls",
            "_model_module_version": "1.5.0",
            "_model_name": "ProgressStyleModel",
            "_view_count": null,
            "_view_module": "@jupyter-widgets/base",
            "_view_module_version": "1.2.0",
            "_view_name": "StyleView",
            "bar_color": null,
            "description_width": ""
          }
        },
        "7f6cdab3ca674a098f127419edfe7af9": {
          "model_module": "@jupyter-widgets/base",
          "model_name": "LayoutModel",
          "model_module_version": "1.2.0",
          "state": {
            "_model_module": "@jupyter-widgets/base",
            "_model_module_version": "1.2.0",
            "_model_name": "LayoutModel",
            "_view_count": null,
            "_view_module": "@jupyter-widgets/base",
            "_view_module_version": "1.2.0",
            "_view_name": "LayoutView",
            "align_content": null,
            "align_items": null,
            "align_self": null,
            "border": null,
            "bottom": null,
            "display": null,
            "flex": null,
            "flex_flow": null,
            "grid_area": null,
            "grid_auto_columns": null,
            "grid_auto_flow": null,
            "grid_auto_rows": null,
            "grid_column": null,
            "grid_gap": null,
            "grid_row": null,
            "grid_template_areas": null,
            "grid_template_columns": null,
            "grid_template_rows": null,
            "height": null,
            "justify_content": null,
            "justify_items": null,
            "left": null,
            "margin": null,
            "max_height": null,
            "max_width": null,
            "min_height": null,
            "min_width": null,
            "object_fit": null,
            "object_position": null,
            "order": null,
            "overflow": null,
            "overflow_x": null,
            "overflow_y": null,
            "padding": null,
            "right": null,
            "top": null,
            "visibility": null,
            "width": null
          }
        },
        "7601eac78f8a45b480dcaa4f65b56420": {
          "model_module": "@jupyter-widgets/controls",
          "model_name": "DescriptionStyleModel",
          "model_module_version": "1.5.0",
          "state": {
            "_model_module": "@jupyter-widgets/controls",
            "_model_module_version": "1.5.0",
            "_model_name": "DescriptionStyleModel",
            "_view_count": null,
            "_view_module": "@jupyter-widgets/base",
            "_view_module_version": "1.2.0",
            "_view_name": "StyleView",
            "description_width": ""
          }
        }
      }
    }
  },
  "cells": [
    {
      "cell_type": "markdown",
      "metadata": {
        "id": "view-in-github",
        "colab_type": "text"
      },
      "source": [
        "<a href=\"https://colab.research.google.com/github/sujitojha1/EVA8/blob/main/Session6/EVA8_S6_CIFAR10.ipynb\" target=\"_parent\"><img src=\"https://colab.research.google.com/assets/colab-badge.svg\" alt=\"Open In Colab\"/></a>"
      ]
    },
    {
      "cell_type": "markdown",
      "source": [
        "## Loading Module and Models"
      ],
      "metadata": {
        "id": "JWAOcyPX7h4w"
      }
    },
    {
      "cell_type": "code",
      "source": [
        "%load_ext autoreload\n",
        "%autoreload 2"
      ],
      "metadata": {
        "id": "M0uJyr0dGbkw"
      },
      "execution_count": 1,
      "outputs": []
    },
    {
      "cell_type": "code",
      "source": [
        "# Future print function\n",
        "from __future__ import print_function\n",
        "\n",
        "# Load modules/models from EVA course\n",
        "!git clone https://github.com/sujitojha1/EVA8 -q --quiet\n",
        "!mv EVA8/Session6/*.py .\n",
        "!rm -rf EVA8\n",
        "print(\"Loaded Modules and Models\")\n",
        "\n",
        "# Installing latest Albumentation library\n",
        "!pip install -U git+https://github.com/albu/albumentations -q --quiet\n",
        "\n",
        "# For inline matplotlib plotting\n",
        "%matplotlib inline"
      ],
      "metadata": {
        "colab": {
          "base_uri": "https://localhost:8080/"
        },
        "id": "IUl0U_jj7gxa",
        "outputId": "f6b14996-3ca6-4bbc-e9eb-63e2133a404d"
      },
      "execution_count": 2,
      "outputs": [
        {
          "output_type": "stream",
          "name": "stdout",
          "text": [
            "Loaded Modules and Models\n",
            "  Preparing metadata (setup.py) ... \u001b[?25l\u001b[?25hdone\n",
            "  Building wheel for albumentations (setup.py) ... \u001b[?25l\u001b[?25hdone\n"
          ]
        }
      ]
    },
    {
      "cell_type": "markdown",
      "metadata": {
        "id": "fPogbueepoCh"
      },
      "source": [
        "## Target : Train a network\n",
        "\n",
        "1. change the code such that it uses GPU and  \n",
        "2. change the architecture to C1C2C3C40 (No MaxPooling, but 3 3x3 layers with stride of 2 instead) (If you can figure out how to use Dilated kernels here instead of MP or strided convolution)  \n",
        "3. total RF must be more than 44  \n",
        "4. one of the layers must use Depthwise Separable Convolution  \n",
        "5. one of the layers must use Dilated Convolution\n",
        "6. use GAP (compulsory)\n",
        "7. add FC after GAP to target #of classes (optional)  \n",
        "8. use albumentation library and apply:  \n",
        "    a. horizontal flip  \n",
        "    b. shiftScaleRotate  \n",
        "    c. coarseDropout (max_holes = 1, max_height=16px, max_width=1, min_holes = 1, min_height=16px, min_width=16px, fill_value=(mean of your dataset), mask_fill_value = None)  \n",
        "9. achieve 85% accuracy, as many epochs as you want. Total Params to be less than 200k.  "
      ]
    },
    {
      "cell_type": "markdown",
      "metadata": {
        "id": "_cj433rtpoCn"
      },
      "source": [
        "## Loading train and test data with transforms and loader functions\n",
        "\n"
      ]
    },
    {
      "cell_type": "code",
      "metadata": {
        "id": "daA7bADhpoCo",
        "outputId": "9c5b3dca-1805-4e18-ffbb-883735e4c20f",
        "colab": {
          "base_uri": "https://localhost:8080/",
          "height": 122,
          "referenced_widgets": [
            "8ba4f180aa384cdc90c3752a78850e35",
            "4d58ce2feede482088b005eb757484e2",
            "cf755f674162460685d5d8d76fa898c2",
            "32c7f91a6bd74c968832ddff7c734504",
            "97f9f14eaf5b4b4ab46beb52686ba469",
            "5f8af00dbcc6455b8e9f108322490ad3",
            "8f32831accb84950a0761ea39363dec0",
            "65c667ab46914f958532647424250017",
            "199c6c2523134a1f94af7dbb156a126a",
            "7f6cdab3ca674a098f127419edfe7af9",
            "7601eac78f8a45b480dcaa4f65b56420"
          ]
        }
      },
      "source": [
        "from data_loader import *\n",
        "\n",
        "# Loading test and train data & dataloader\n",
        "cifar10 = dataset_cifar10(batch_size=128)\n",
        "\n",
        "# Train dataloader\n",
        "trainloader = cifar10.loader(train_flag=True)\n",
        "\n",
        "# Test dataloader\n",
        "testloader = cifar10.loader(train_flag=False)\n",
        "\n",
        "classes = cifar10.classes"
      ],
      "execution_count": 3,
      "outputs": [
        {
          "output_type": "stream",
          "name": "stdout",
          "text": [
            "CUDA availability ? True\n",
            "Downloading https://www.cs.toronto.edu/~kriz/cifar-10-python.tar.gz to ./Data/cifar-10-python.tar.gz\n"
          ]
        },
        {
          "output_type": "display_data",
          "data": {
            "text/plain": [
              "  0%|          | 0/170498071 [00:00<?, ?it/s]"
            ],
            "application/vnd.jupyter.widget-view+json": {
              "version_major": 2,
              "version_minor": 0,
              "model_id": "8ba4f180aa384cdc90c3752a78850e35"
            }
          },
          "metadata": {}
        },
        {
          "output_type": "stream",
          "name": "stdout",
          "text": [
            "Extracting ./Data/cifar-10-python.tar.gz to ./Data\n",
            "Files already downloaded and verified\n"
          ]
        }
      ]
    },
    {
      "cell_type": "markdown",
      "source": [
        "## Exploratory Data Analysis"
      ],
      "metadata": {
        "id": "F1-EUfuF2ugL"
      }
    },
    {
      "cell_type": "markdown",
      "source": [
        "\n",
        "### Summary Statistics"
      ],
      "metadata": {
        "id": "YKsm9O1n2zrt"
      }
    },
    {
      "cell_type": "code",
      "source": [
        "cifar10.data_summary_stats()"
      ],
      "metadata": {
        "colab": {
          "base_uri": "https://localhost:8080/"
        },
        "id": "uEaC_-d_29b8",
        "outputId": "1200ba47-6bc5-4a57-87f8-8254994ef6fd"
      },
      "execution_count": 4,
      "outputs": [
        {
          "output_type": "stream",
          "name": "stdout",
          "text": [
            "Files already downloaded and verified\n",
            "Files already downloaded and verified\n",
            "(60000, 32, 32, 3)\n",
            "[0.49186878 0.48265391 0.44717728]\n",
            "[0.24697121 0.24338894 0.26159259]\n"
          ]
        }
      ]
    },
    {
      "cell_type": "markdown",
      "source": [
        "### Plotting sample images"
      ],
      "metadata": {
        "id": "zAtKdwgkIj8o"
      }
    },
    {
      "cell_type": "code",
      "source": [
        "cifar10.sample_pictures(train_flag=True)"
      ],
      "metadata": {
        "colab": {
          "base_uri": "https://localhost:8080/",
          "height": 858
        },
        "id": "3zRt1TtfIgfx",
        "outputId": "534c9bf9-d034-4474-ce3b-463cfb2b7787"
      },
      "execution_count": 5,
      "outputs": [
        {
          "output_type": "stream",
          "name": "stdout",
          "text": [
            "Files already downloaded and verified\n"
          ]
        },
        {
          "output_type": "stream",
          "name": "stderr",
          "text": [
            "WARNING:matplotlib.image:Clipping input data to the valid range for imshow with RGB data ([0..1] for floats or [0..255] for integers).\n",
            "WARNING:matplotlib.image:Clipping input data to the valid range for imshow with RGB data ([0..1] for floats or [0..255] for integers).\n",
            "WARNING:matplotlib.image:Clipping input data to the valid range for imshow with RGB data ([0..1] for floats or [0..255] for integers).\n",
            "WARNING:matplotlib.image:Clipping input data to the valid range for imshow with RGB data ([0..1] for floats or [0..255] for integers).\n",
            "WARNING:matplotlib.image:Clipping input data to the valid range for imshow with RGB data ([0..1] for floats or [0..255] for integers).\n",
            "WARNING:matplotlib.image:Clipping input data to the valid range for imshow with RGB data ([0..1] for floats or [0..255] for integers).\n"
          ]
        },
        {
          "output_type": "display_data",
          "data": {
            "text/plain": [
              "<Figure size 720x720 with 25 Axes>"
            ],
            "image/png": "[encoded data removed]"
          },
          "metadata": {}
        }
      ]
    },
    {
      "cell_type": "markdown",
      "source": [
        "## The Model"
      ],
      "metadata": {
        "id": "FzOmtVmEIGKB"
      }
    },
    {
      "cell_type": "code",
      "metadata": {
        "id": "0jjLwLLQpoCr",
        "colab": {
          "base_uri": "https://localhost:8080/"
        },
        "outputId": "b6e1f482-50a7-4776-ab45-5b8c8f1576d5"
      },
      "source": [
        "from model import *\n",
        "\n",
        "# Loading Custom Model\n",
        "net = Net()\n",
        "\n",
        "# Using cuda if available\n",
        "use_cuda = torch.cuda.is_available()\n",
        "device = torch.device(\"cuda\" if use_cuda else \"cpu\")\n",
        "print(device)\n",
        "\n",
        "# Sending network to device\n",
        "net = net.to(device)"
      ],
      "execution_count": 6,
      "outputs": [
        {
          "output_type": "stream",
          "name": "stdout",
          "text": [
            "cuda\n"
          ]
        }
      ]
    },
    {
      "cell_type": "markdown",
      "metadata": {
        "id": "Wdw2NNCUpoCu"
      },
      "source": [
        "## Model Summary\n",
        "\n"
      ]
    },
    {
      "cell_type": "code",
      "source": [
        "!pip install torchsummary\n",
        "from torchsummary import summary\n",
        "\n",
        "# Model Summary\n",
        "summary(net, input_size=(3, 32, 32))"
      ],
      "metadata": {
        "colab": {
          "base_uri": "https://localhost:8080/"
        },
        "id": "tgI3YL4lI2nz",
        "outputId": "75890c4d-2afa-4370-bac4-5af3a83b5ade"
      },
      "execution_count": 7,
      "outputs": [
        {
          "output_type": "stream",
          "name": "stdout",
          "text": [
            "Looking in indexes: https://pypi.org/simple, https://us-python.pkg.dev/colab-wheels/public/simple/\n",
            "Requirement already satisfied: torchsummary in /usr/local/lib/python3.8/dist-packages (1.5.1)\n",
            "----------------------------------------------------------------\n",
            "        Layer (type)               Output Shape         Param #\n",
            "================================================================\n",
            "            Conv2d-1           [-1, 32, 32, 32]             864\n",
            "              ReLU-2           [-1, 32, 32, 32]               0\n",
            "       BatchNorm2d-3           [-1, 32, 32, 32]              64\n",
            "            Conv2d-4          [-1, 192, 32, 32]           6,144\n",
            "              ReLU-5          [-1, 192, 32, 32]               0\n",
            "       BatchNorm2d-6          [-1, 192, 32, 32]             384\n",
            "            Conv2d-7          [-1, 192, 32, 32]           1,728\n",
            "              ReLU-8          [-1, 192, 32, 32]               0\n",
            "       BatchNorm2d-9          [-1, 192, 32, 32]             384\n",
            "           Conv2d-10           [-1, 32, 32, 32]           6,144\n",
            "             ReLU-11           [-1, 32, 32, 32]               0\n",
            "      BatchNorm2d-12           [-1, 32, 32, 32]              64\n",
            "          Dropout-13           [-1, 32, 32, 32]               0\n",
            "           Conv2d-14           [-1, 32, 16, 16]           9,216\n",
            "      BatchNorm2d-15           [-1, 32, 16, 16]              64\n",
            "           Conv2d-16          [-1, 192, 16, 16]           6,144\n",
            "             ReLU-17          [-1, 192, 16, 16]               0\n",
            "      BatchNorm2d-18          [-1, 192, 16, 16]             384\n",
            "           Conv2d-19          [-1, 192, 16, 16]           1,728\n",
            "             ReLU-20          [-1, 192, 16, 16]               0\n",
            "      BatchNorm2d-21          [-1, 192, 16, 16]             384\n",
            "           Conv2d-22           [-1, 32, 16, 16]           6,144\n",
            "             ReLU-23           [-1, 32, 16, 16]               0\n",
            "      BatchNorm2d-24           [-1, 32, 16, 16]              64\n",
            "          Dropout-25           [-1, 32, 16, 16]               0\n",
            "           Conv2d-26             [-1, 32, 8, 8]           9,216\n",
            "      BatchNorm2d-27             [-1, 32, 8, 8]              64\n",
            "           Conv2d-28            [-1, 192, 8, 8]           6,144\n",
            "             ReLU-29            [-1, 192, 8, 8]               0\n",
            "      BatchNorm2d-30            [-1, 192, 8, 8]             384\n",
            "           Conv2d-31            [-1, 192, 8, 8]           1,728\n",
            "             ReLU-32            [-1, 192, 8, 8]               0\n",
            "      BatchNorm2d-33            [-1, 192, 8, 8]             384\n",
            "           Conv2d-34             [-1, 64, 8, 8]          12,288\n",
            "             ReLU-35             [-1, 64, 8, 8]               0\n",
            "      BatchNorm2d-36             [-1, 64, 8, 8]             128\n",
            "          Dropout-37             [-1, 64, 8, 8]               0\n",
            "           Conv2d-38             [-1, 64, 8, 8]           2,048\n",
            "      BatchNorm2d-39             [-1, 64, 8, 8]             128\n",
            "           Conv2d-40             [-1, 64, 4, 4]          36,864\n",
            "      BatchNorm2d-41             [-1, 64, 4, 4]             128\n",
            "           Conv2d-42            [-1, 384, 4, 4]          24,576\n",
            "             ReLU-43            [-1, 384, 4, 4]               0\n",
            "      BatchNorm2d-44            [-1, 384, 4, 4]             768\n",
            "           Conv2d-45            [-1, 384, 4, 4]           3,456\n",
            "             ReLU-46            [-1, 384, 4, 4]               0\n",
            "      BatchNorm2d-47            [-1, 384, 4, 4]             768\n",
            "           Conv2d-48            [-1, 154, 4, 4]          59,136\n",
            "             ReLU-49            [-1, 154, 4, 4]               0\n",
            "      BatchNorm2d-50            [-1, 154, 4, 4]             308\n",
            "          Dropout-51            [-1, 154, 4, 4]               0\n",
            "        AvgPool2d-52            [-1, 154, 1, 1]               0\n",
            "           Linear-53                   [-1, 10]           1,550\n",
            "================================================================\n",
            "Total params: 199,970\n",
            "Trainable params: 199,970\n",
            "Non-trainable params: 0\n",
            "----------------------------------------------------------------\n",
            "Input size (MB): 0.01\n",
            "Forward/backward pass size (MB): 14.53\n",
            "Params size (MB): 0.76\n",
            "Estimated Total Size (MB): 15.30\n",
            "----------------------------------------------------------------\n"
          ]
        }
      ]
    },
    {
      "cell_type": "markdown",
      "source": [
        "## Define a Loss function and optimizer"
      ],
      "metadata": {
        "id": "cXhwE0ozKiVy"
      }
    },
    {
      "cell_type": "code",
      "source": [
        "import torch.optim as optim\n",
        "import torch.nn as nn\n",
        "from torch.optim.lr_scheduler import StepLR\n",
        "\n",
        "criterion = nn.CrossEntropyLoss()\n",
        "optimizer = optim.SGD(net.parameters(), lr=0.1, momentum=0.9)\n",
        "scheduler = StepLR(optimizer, step_size=6, gamma=0.1)"
      ],
      "metadata": {
        "id": "15KdCYhCKj7S"
      },
      "execution_count": 8,
      "outputs": []
    },
    {
      "cell_type": "markdown",
      "source": [
        "## Training and Testing"
      ],
      "metadata": {
        "id": "COE0sK1dLxGm"
      }
    },
    {
      "cell_type": "code",
      "source": [
        "# Load train and test model\n",
        "from main import *\n",
        "\n",
        "train = train()\n",
        "test = test()\n",
        "\n",
        "EPOCHS= 25\n",
        "\n",
        "for epoch in range(EPOCHS):  # loop over the dataset multiple times\n",
        "\n",
        "    train.execute(net, device, trainloader, optimizer, criterion, epoch)\n",
        "    scheduler.step()\n",
        "    test.execute(net, device, testloader, criterion)\n",
        "\n",
        "print('Finished Training')"
      ],
      "metadata": {
        "colab": {
          "base_uri": "https://localhost:8080/"
        },
        "id": "O8NbnhS_TDly",
        "outputId": "713a5dfd-75ba-42a9-c476-19262974b905"
      },
      "execution_count": 9,
      "outputs": [
        {
          "output_type": "stream",
          "name": "stderr",
          "text": [
            "Epoch: 0,Loss=1.16 Batch_id=390 Accuracy=46.06: 100%|██████████| 391/391 [00:22<00:00, 17.31it/s]\n"
          ]
        },
        {
          "output_type": "stream",
          "name": "stdout",
          "text": [
            "Test set: Average loss: 0.0088, Accuracy: 6036/10000 (60.36%)\n",
            "\n"
          ]
        },
        {
          "output_type": "stream",
          "name": "stderr",
          "text": [
            "Epoch: 1,Loss=1.14 Batch_id=390 Accuracy=58.88: 100%|██████████| 391/391 [00:18<00:00, 20.66it/s]\n"
          ]
        },
        {
          "output_type": "stream",
          "name": "stdout",
          "text": [
            "Test set: Average loss: 0.0073, Accuracy: 6800/10000 (68.00%)\n",
            "\n"
          ]
        },
        {
          "output_type": "stream",
          "name": "stderr",
          "text": [
            "Epoch: 2,Loss=0.95 Batch_id=390 Accuracy=65.03: 100%|██████████| 391/391 [00:18<00:00, 20.80it/s]\n"
          ]
        },
        {
          "output_type": "stream",
          "name": "stdout",
          "text": [
            "Test set: Average loss: 0.0061, Accuracy: 7297/10000 (72.97%)\n",
            "\n"
          ]
        },
        {
          "output_type": "stream",
          "name": "stderr",
          "text": [
            "Epoch: 3,Loss=1.12 Batch_id=390 Accuracy=68.09: 100%|██████████| 391/391 [00:18<00:00, 20.78it/s]\n"
          ]
        },
        {
          "output_type": "stream",
          "name": "stdout",
          "text": [
            "Test set: Average loss: 0.0056, Accuracy: 7565/10000 (75.65%)\n",
            "\n"
          ]
        },
        {
          "output_type": "stream",
          "name": "stderr",
          "text": [
            "Epoch: 4,Loss=1.01 Batch_id=390 Accuracy=70.52: 100%|██████████| 391/391 [00:19<00:00, 20.50it/s]\n"
          ]
        },
        {
          "output_type": "stream",
          "name": "stdout",
          "text": [
            "Test set: Average loss: 0.0051, Accuracy: 7799/10000 (77.99%)\n",
            "\n"
          ]
        },
        {
          "output_type": "stream",
          "name": "stderr",
          "text": [
            "Epoch: 5,Loss=0.66 Batch_id=390 Accuracy=72.34: 100%|██████████| 391/391 [00:19<00:00, 20.20it/s]\n"
          ]
        },
        {
          "output_type": "stream",
          "name": "stdout",
          "text": [
            "Test set: Average loss: 0.0048, Accuracy: 7862/10000 (78.62%)\n",
            "\n"
          ]
        },
        {
          "output_type": "stream",
          "name": "stderr",
          "text": [
            "Epoch: 6,Loss=0.78 Batch_id=390 Accuracy=76.34: 100%|██████████| 391/391 [00:19<00:00, 19.96it/s]\n"
          ]
        },
        {
          "output_type": "stream",
          "name": "stdout",
          "text": [
            "Test set: Average loss: 0.0041, Accuracy: 8212/10000 (82.12%)\n",
            "\n"
          ]
        },
        {
          "output_type": "stream",
          "name": "stderr",
          "text": [
            "Epoch: 7,Loss=0.61 Batch_id=390 Accuracy=77.70: 100%|██████████| 391/391 [00:19<00:00, 20.43it/s]\n"
          ]
        },
        {
          "output_type": "stream",
          "name": "stdout",
          "text": [
            "Test set: Average loss: 0.0040, Accuracy: 8262/10000 (82.62%)\n",
            "\n"
          ]
        },
        {
          "output_type": "stream",
          "name": "stderr",
          "text": [
            "Epoch: 8,Loss=0.52 Batch_id=390 Accuracy=78.04: 100%|██████████| 391/391 [00:19<00:00, 20.57it/s]\n"
          ]
        },
        {
          "output_type": "stream",
          "name": "stdout",
          "text": [
            "Test set: Average loss: 0.0039, Accuracy: 8286/10000 (82.86%)\n",
            "\n"
          ]
        },
        {
          "output_type": "stream",
          "name": "stderr",
          "text": [
            "Epoch: 9,Loss=0.62 Batch_id=390 Accuracy=78.43: 100%|██████████| 391/391 [00:19<00:00, 20.39it/s]\n"
          ]
        },
        {
          "output_type": "stream",
          "name": "stdout",
          "text": [
            "Test set: Average loss: 0.0039, Accuracy: 8295/10000 (82.95%)\n",
            "\n"
          ]
        },
        {
          "output_type": "stream",
          "name": "stderr",
          "text": [
            "Epoch: 10,Loss=0.64 Batch_id=390 Accuracy=78.82: 100%|██████████| 391/391 [00:18<00:00, 20.64it/s]\n"
          ]
        },
        {
          "output_type": "stream",
          "name": "stdout",
          "text": [
            "Test set: Average loss: 0.0039, Accuracy: 8331/10000 (83.31%)\n",
            "\n"
          ]
        },
        {
          "output_type": "stream",
          "name": "stderr",
          "text": [
            "Epoch: 11,Loss=0.65 Batch_id=390 Accuracy=79.11: 100%|██████████| 391/391 [00:18<00:00, 20.93it/s]\n"
          ]
        },
        {
          "output_type": "stream",
          "name": "stdout",
          "text": [
            "Test set: Average loss: 0.0037, Accuracy: 8380/10000 (83.80%)\n",
            "\n"
          ]
        },
        {
          "output_type": "stream",
          "name": "stderr",
          "text": [
            "Epoch: 12,Loss=0.65 Batch_id=390 Accuracy=79.41: 100%|██████████| 391/391 [00:18<00:00, 20.73it/s]\n"
          ]
        },
        {
          "output_type": "stream",
          "name": "stdout",
          "text": [
            "Test set: Average loss: 0.0037, Accuracy: 8381/10000 (83.81%)\n",
            "\n"
          ]
        },
        {
          "output_type": "stream",
          "name": "stderr",
          "text": [
            "Epoch: 13,Loss=0.54 Batch_id=390 Accuracy=79.84: 100%|██████████| 391/391 [00:18<00:00, 20.76it/s]\n"
          ]
        },
        {
          "output_type": "stream",
          "name": "stdout",
          "text": [
            "Test set: Average loss: 0.0037, Accuracy: 8394/10000 (83.94%)\n",
            "\n"
          ]
        },
        {
          "output_type": "stream",
          "name": "stderr",
          "text": [
            "Epoch: 14,Loss=0.68 Batch_id=390 Accuracy=79.65: 100%|██████████| 391/391 [00:18<00:00, 20.59it/s]\n"
          ]
        },
        {
          "output_type": "stream",
          "name": "stdout",
          "text": [
            "Test set: Average loss: 0.0037, Accuracy: 8387/10000 (83.87%)\n",
            "\n"
          ]
        },
        {
          "output_type": "stream",
          "name": "stderr",
          "text": [
            "Epoch: 15,Loss=0.60 Batch_id=390 Accuracy=79.55: 100%|██████████| 391/391 [00:18<00:00, 20.84it/s]\n"
          ]
        },
        {
          "output_type": "stream",
          "name": "stdout",
          "text": [
            "Test set: Average loss: 0.0037, Accuracy: 8401/10000 (84.01%)\n",
            "\n"
          ]
        },
        {
          "output_type": "stream",
          "name": "stderr",
          "text": [
            "Epoch: 16,Loss=0.62 Batch_id=390 Accuracy=79.66: 100%|██████████| 391/391 [00:18<00:00, 20.81it/s]\n"
          ]
        },
        {
          "output_type": "stream",
          "name": "stdout",
          "text": [
            "Test set: Average loss: 0.0037, Accuracy: 8393/10000 (83.93%)\n",
            "\n"
          ]
        },
        {
          "output_type": "stream",
          "name": "stderr",
          "text": [
            "Epoch: 17,Loss=0.51 Batch_id=390 Accuracy=79.79: 100%|██████████| 391/391 [00:18<00:00, 20.91it/s]\n"
          ]
        },
        {
          "output_type": "stream",
          "name": "stdout",
          "text": [
            "Test set: Average loss: 0.0037, Accuracy: 8399/10000 (83.99%)\n",
            "\n"
          ]
        },
        {
          "output_type": "stream",
          "name": "stderr",
          "text": [
            "Epoch: 18,Loss=0.58 Batch_id=390 Accuracy=79.83: 100%|██████████| 391/391 [00:18<00:00, 20.84it/s]\n"
          ]
        },
        {
          "output_type": "stream",
          "name": "stdout",
          "text": [
            "Test set: Average loss: 0.0037, Accuracy: 8406/10000 (84.06%)\n",
            "\n"
          ]
        },
        {
          "output_type": "stream",
          "name": "stderr",
          "text": [
            "Epoch: 19,Loss=0.52 Batch_id=390 Accuracy=79.65: 100%|██████████| 391/391 [00:18<00:00, 20.82it/s]\n"
          ]
        },
        {
          "output_type": "stream",
          "name": "stdout",
          "text": [
            "Test set: Average loss: 0.0036, Accuracy: 8411/10000 (84.11%)\n",
            "\n"
          ]
        },
        {
          "output_type": "stream",
          "name": "stderr",
          "text": [
            "Epoch: 20,Loss=0.81 Batch_id=390 Accuracy=79.86: 100%|██████████| 391/391 [00:18<00:00, 20.97it/s]\n"
          ]
        },
        {
          "output_type": "stream",
          "name": "stdout",
          "text": [
            "Test set: Average loss: 0.0037, Accuracy: 8405/10000 (84.05%)\n",
            "\n"
          ]
        },
        {
          "output_type": "stream",
          "name": "stderr",
          "text": [
            "Epoch: 21,Loss=0.67 Batch_id=390 Accuracy=79.86: 100%|██████████| 391/391 [00:19<00:00, 20.51it/s]\n"
          ]
        },
        {
          "output_type": "stream",
          "name": "stdout",
          "text": [
            "Test set: Average loss: 0.0036, Accuracy: 8414/10000 (84.14%)\n",
            "\n"
          ]
        },
        {
          "output_type": "stream",
          "name": "stderr",
          "text": [
            "Epoch: 22,Loss=0.53 Batch_id=390 Accuracy=79.94: 100%|██████████| 391/391 [00:18<00:00, 20.64it/s]\n"
          ]
        },
        {
          "output_type": "stream",
          "name": "stdout",
          "text": [
            "Test set: Average loss: 0.0037, Accuracy: 8410/10000 (84.10%)\n",
            "\n"
          ]
        },
        {
          "output_type": "stream",
          "name": "stderr",
          "text": [
            "Epoch: 23,Loss=0.48 Batch_id=390 Accuracy=79.80: 100%|██████████| 391/391 [00:18<00:00, 20.60it/s]\n"
          ]
        },
        {
          "output_type": "stream",
          "name": "stdout",
          "text": [
            "Test set: Average loss: 0.0037, Accuracy: 8409/10000 (84.09%)\n",
            "\n"
          ]
        },
        {
          "output_type": "stream",
          "name": "stderr",
          "text": [
            "Epoch: 24,Loss=0.53 Batch_id=390 Accuracy=80.01: 100%|██████████| 391/391 [00:19<00:00, 20.40it/s]\n"
          ]
        },
        {
          "output_type": "stream",
          "name": "stdout",
          "text": [
            "Test set: Average loss: 0.0037, Accuracy: 8416/10000 (84.16%)\n",
            "\n",
            "Finished Training\n"
          ]
        }
      ]
    },
    {
      "cell_type": "markdown",
      "source": [
        "## Display an image from the test set"
      ],
      "metadata": {
        "id": "NmdwsHa1R10T"
      }
    },
    {
      "cell_type": "code",
      "source": [
        "images, labels = cifar10.sample_pictures(train_flag=False, return_flag = True)"
      ],
      "metadata": {
        "colab": {
          "base_uri": "https://localhost:8080/",
          "height": 212
        },
        "id": "RXXX3LKTRwp0",
        "outputId": "0e7c2ace-5bbc-4302-89c9-2e86df5e9ca1"
      },
      "execution_count": 10,
      "outputs": [
        {
          "output_type": "stream",
          "name": "stdout",
          "text": [
            "Files already downloaded and verified\n"
          ]
        },
        {
          "output_type": "stream",
          "name": "stderr",
          "text": [
            "WARNING:matplotlib.image:Clipping input data to the valid range for imshow with RGB data ([0..1] for floats or [0..255] for integers).\n"
          ]
        },
        {
          "output_type": "display_data",
          "data": {
            "text/plain": [
              "<Figure size 720x720 with 5 Axes>"
            ],
            "image/png": "[encoded data removed]"
          },
          "metadata": {}
        }
      ]
    },
    {
      "cell_type": "markdown",
      "source": [
        "## Prediction of sampe test set"
      ],
      "metadata": {
        "id": "ZdqbFDKMSDZL"
      }
    },
    {
      "cell_type": "code",
      "source": [
        "images,labels = images.to(device),labels.to(device)\n",
        "outputs = net(images)\n",
        "_, predicted = torch.max(outputs, 1)\n",
        "\n",
        "print('Predicted: ', ' '.join('%5s' % classes[predicted[j]]\n",
        "                              for j in range(5)))"
      ],
      "metadata": {
        "colab": {
          "base_uri": "https://localhost:8080/"
        },
        "id": "GlTTFOdeSFBk",
        "outputId": "05eaa24c-7d6b-4e22-9257-3a0fdf151c8a"
      },
      "execution_count": 11,
      "outputs": [
        {
          "output_type": "stream",
          "name": "stdout",
          "text": [
            "Predicted:  horse truck   car  deer  deer\n"
          ]
        }
      ]
    },
    {
      "cell_type": "markdown",
      "source": [
        "## Evaluating Train Accuracy"
      ],
      "metadata": {
        "id": "FMO4iNX-SycM"
      }
    },
    {
      "cell_type": "code",
      "source": [
        "from evaluate import *\n",
        "calAccuracy(net, trainloader, device)"
      ],
      "metadata": {
        "colab": {
          "base_uri": "https://localhost:8080/"
        },
        "id": "F-3lcDR3Szzb",
        "outputId": "9e711a1a-368a-4248-be48-c346f6e73f5d"
      },
      "execution_count": 12,
      "outputs": [
        {
          "output_type": "stream",
          "name": "stdout",
          "text": [
            "Accuracy of the network on the  train images: 81.092 %%\n"
          ]
        }
      ]
    },
    {
      "cell_type": "markdown",
      "source": [
        "## Evaluating Test Accuracy"
      ],
      "metadata": {
        "id": "qs6vr8wXW9o7"
      }
    },
    {
      "cell_type": "code",
      "source": [
        "calAccuracy(net, testloader, device)"
      ],
      "metadata": {
        "colab": {
          "base_uri": "https://localhost:8080/"
        },
        "id": "hyqjsMYBW7ax",
        "outputId": "a388d96f-0f57-4f16-f9b4-7b4727461923"
      },
      "execution_count": 13,
      "outputs": [
        {
          "output_type": "stream",
          "name": "stdout",
          "text": [
            "Accuracy of the network on the  train images: 84.16 %%\n"
          ]
        }
      ]
    },
    {
      "cell_type": "markdown",
      "source": [
        "## Evaluating test Accuracy over different classes"
      ],
      "metadata": {
        "id": "dGXeyR2zaT3l"
      }
    },
    {
      "cell_type": "code",
      "source": [
        "calClassAccuracy(net, testloader,classes, device)"
      ],
      "metadata": {
        "colab": {
          "base_uri": "https://localhost:8080/"
        },
        "id": "P709SSnLaW7Z",
        "outputId": "2f67431f-9786-4df2-d775-3905f181a181"
      },
      "execution_count": 14,
      "outputs": [
        {
          "output_type": "stream",
          "name": "stdout",
          "text": [
            "Accuracy of plane : 76 %\n",
            "Accuracy of   car : 96 %\n",
            "Accuracy of  bird : 74 %\n",
            "Accuracy of   cat : 64 %\n",
            "Accuracy of  deer : 84 %\n",
            "Accuracy of   dog : 70 %\n",
            "Accuracy of  frog : 80 %\n",
            "Accuracy of horse : 70 %\n",
            "Accuracy of  ship : 91 %\n",
            "Accuracy of truck : 93 %\n"
          ]
        }
      ]
    },
    {
      "cell_type": "code",
      "source": [],
      "metadata": {
        "id": "8DfpRK7_b4BQ"
      },
      "execution_count": 14,
      "outputs": []
    }
  ]
}